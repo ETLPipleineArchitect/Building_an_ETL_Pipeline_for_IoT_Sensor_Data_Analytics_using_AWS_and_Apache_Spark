{
    "cells": [
        {
            "cell_type": "markdown",
            "metadata": {},
            "source": [
                "# Data Visualization\n",
                "Visualizing the results from the data analysis."
            ]
        },
        {
            "cell_type": "code",
            "execution_count": 1,
            "metadata": {},
            "outputs": [],
            "source": [
                "import pandas as pd\n",
                "import matplotlib.pyplot as plt\n",
                "\n",
                "# Load Data\n",
                "abnormal_temps = pd.read_csv('s3://your-bucket/iot_data/output/abnormal_temps.csv')\n",
                "\n",
                "# Plot Distribution of Abnormal Temperatures\n",
                "plt.figure(figsize=(10, 5))\n",
                "plt.hist(abnormal_temps['temperature'], bins=30)\n",
                "plt.title('Distribution of Abnormal Temperatures')\n",
                "plt.xlabel('Temperature')\n",
                "plt.ylabel('Frequency')\n",
                "plt.show()\n"
            ]
        }
    ],
    "metadata": {
        "kernelspec": {
            "display_name": "Python 3",
            "language": "python",
            "name": "python3"
        },
        "language_info": {
            "name": "python",
            "version": "3.8.5",
            "mimetype": "text/x-python",
            "codemirror_mode": {
                "name": "ipython",
                "version": 3
            },
            "pygments_lexer": "ipython3",
            "nbconvert_exporter": "python",
            "file_extension": ".py"
        }
    },
    "nbformat": 4,
    "nbformat_minor": 5
}